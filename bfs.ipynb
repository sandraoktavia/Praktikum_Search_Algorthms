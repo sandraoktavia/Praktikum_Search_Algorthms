{
  "nbformat": 4,
  "nbformat_minor": 0,
  "metadata": {
    "colab": {
      "provenance": [],
      "authorship_tag": "ABX9TyMki7F7SWvyI5oEOetMf8x1",
      "include_colab_link": true
    },
    "kernelspec": {
      "name": "python3",
      "display_name": "Python 3"
    },
    "language_info": {
      "name": "python"
    }
  },
  "cells": [
    {
      "cell_type": "markdown",
      "metadata": {
        "id": "view-in-github",
        "colab_type": "text"
      },
      "source": [
        "<a href=\"https://colab.research.google.com/github/sandraoktavia/Praktikum_Search_Algorthms/blob/main/bfs.ipynb\" target=\"_parent\"><img src=\"https://colab.research.google.com/assets/colab-badge.svg\" alt=\"Open In Colab\"/></a>"
      ]
    },
    {
      "cell_type": "markdown",
      "source": [
        "## Code BFS in phyton"
      ],
      "metadata": {
        "id": "af0qWKIqNInR"
      }
    },
    {
      "cell_type": "code",
      "source": [
        "from collections import deque\n",
        "\n",
        "# BFS algorithm\n",
        "def bfs(graph, root):\n",
        "    visited = set()  # Set untuk menyimpan node yang telah dikunjungi\n",
        "    queue = deque([root])  # Antrian untuk BFS\n",
        "    visited.add(root)\n",
        "\n",
        "    while queue:\n",
        "        # Mengambil elemen dari antrian\n",
        "        vertex = queue.popleft()\n",
        "        print(vertex, end=\" \")  # Mencetak node yang dikunjungi\n",
        "\n",
        "        # Memproses semua tetangga yang belum dikunjungi\n",
        "        for neighbour in graph[vertex]:\n",
        "            if neighbour not in visited:\n",
        "                visited.add(neighbour)\n",
        "                queue.append(neighbour)\n",
        "\n",
        "# Kode utama\n",
        "if __name__ == \"__main__\":\n",
        "    graph = {0: [1, 2], 1: [2], 2: [3], 3: [1, 2]}\n",
        "    print(\"Following is Breadth First Traversal:\")\n",
        "    bfs(graph, 0)\n"
      ],
      "metadata": {
        "colab": {
          "base_uri": "https://localhost:8080/"
        },
        "id": "ygqjIIarGaTj",
        "outputId": "da1782ec-96d2-409b-d94f-43231b274a6b"
      },
      "execution_count": 1,
      "outputs": [
        {
          "output_type": "stream",
          "name": "stdout",
          "text": [
            "Following is Breadth First Traversal:\n",
            "0 1 2 3 "
          ]
        }
      ]
    }
  ]
}