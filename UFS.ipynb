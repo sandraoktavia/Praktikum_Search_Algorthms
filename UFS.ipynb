{
  "nbformat": 4,
  "nbformat_minor": 0,
  "metadata": {
    "colab": {
      "provenance": [],
      "authorship_tag": "ABX9TyM4oa2f6pXlaIYWxvcGJVmd",
      "include_colab_link": true
    },
    "kernelspec": {
      "name": "python3",
      "display_name": "Python 3"
    },
    "language_info": {
      "name": "python"
    }
  },
  "cells": [
    {
      "cell_type": "markdown",
      "metadata": {
        "id": "view-in-github",
        "colab_type": "text"
      },
      "source": [
        "<a href=\"https://colab.research.google.com/github/sandraoktavia/Praktikum_Search_Algorthms/blob/main/UFS.ipynb\" target=\"_parent\"><img src=\"https://colab.research.google.com/assets/colab-badge.svg\" alt=\"Open In Colab\"/></a>"
      ]
    },
    {
      "cell_type": "markdown",
      "source": [
        "## Code UFS in python"
      ],
      "metadata": {
        "id": "UoWfUNIUNoP3"
      }
    },
    {
      "cell_type": "code",
      "execution_count": null,
      "metadata": {
        "id": "aDI58e2GNmpt"
      },
      "outputs": [],
      "source": [
        "# Python3 implementation of Uniform Cost Search Algorithm\n",
        "\n",
        "from collections import defaultdict\n",
        "\n",
        "# Uniform Cost Search algorithm\n",
        "def uniform_cost_search(goal, start):\n",
        "    global graph, cost\n",
        "    answer = []  # Minimum cost to reach each goal state\n",
        "    queue = []   # Priority queue\n",
        "\n",
        "    # Set answer vector to a large value\n",
        "    for _ in range(len(goal)):\n",
        "        answer.append(10**8)\n",
        "\n",
        "    # Insert the starting node with cost 0\n",
        "    queue.append([0, start])\n",
        "\n",
        "    # Dictionary to track visited nodes\n",
        "    visited = {}\n",
        "\n",
        "    # Count of goals reached\n",
        "    count = 0\n",
        "\n",
        "    while len(queue) > 0:\n",
        "        # Sort queue to always pick the node with the least cost\n",
        "        queue = sorted(queue)\n",
        "        p = queue[-1]  # Get the lowest cost node\n",
        "        del queue[-1]  # Remove from queue\n",
        "\n",
        "        # Restore the cost value\n",
        "        p[0] *= -1\n",
        "\n",
        "        # If node is a goal state\n",
        "        if p[1] in goal:\n",
        "            index = goal.index(p[1])\n",
        "\n",
        "            # If this is the first time reaching this goal\n",
        "            if answer[index] == 10**8:\n",
        "                count += 1\n",
        "\n",
        "            # If the cost is lower, update the answer\n",
        "            if answer[index] > p[0]:\n",
        "                answer[index] = p[0]\n",
        "\n",
        "            # If all goals are reached, return answer\n",
        "            if count == len(goal):\n",
        "                return answer\n",
        "\n",
        "        # Process unvisited neighbors\n",
        "        if p[1] not in visited:\n",
        "            for i in range(len(graph[p[1]])):\n",
        "                queue.append([(p[0] + cost[(p[1], graph[p[1]][i])]) * -1, graph[p[1]][i]])\n",
        "\n",
        "        # Mark node as visited\n",
        "        visited[p[1]] = 1\n",
        "\n",
        "    return answer\n",
        "\n",
        "# Main function\n",
        "if __name__ == \"__main__\":\n",
        "    # Create the graph\n",
        "    graph, cost = [[] for _ in range(8)], {}\n",
        "\n",
        "    # Add edges\n",
        "    graph[0].append(1)\n",
        "    graph[0].append(3)\n",
        "    graph[1].append(6)\n",
        "    graph[3].append(1)\n",
        "    graph[3].append(6)\n",
        "    graph[3].append(4)\n",
        "    graph[2].append(1)\n",
        "    graph[4].append(2)\n",
        "    graph[4].append(5)\n",
        "    graph[5].append(2)\n",
        "    graph[5].append(6)\n",
        "    graph[6].append(4)\n",
        "\n",
        "    # Add costs\n",
        "    cost[(0, 1)] = 2\n",
        "    cost[(0, 3)] = 5\n",
        "    cost[(1, 6)] = 1\n",
        "    cost[(3, 1)] = 5\n",
        "    cost[(3, 6)] = 6\n",
        "    cost[(3, 4)] = 2\n",
        "    cost[(2, 1)] = 4\n",
        "    cost[(4, 2)] = 4\n",
        "    cost[(4, 5)] = 3\n",
        "    cost[(5, 2)] = 6\n",
        "    cost[(5, 6)] = 3\n",
        "    cost[(6, 4)] = 7\n",
        "\n",
        "    # Goal states\n",
        "    goal = []\n",
        "    goal.append(6)\n",
        "\n",
        "    # Get the answer\n",
        "    answer = uniform_cost_search(goal, 0)\n",
        "\n",
        "    # Print the minimum cost from node 0 to node 6\n",
        "    print(\"Minimum cost from 0 to 6 is =\", answer[0])\n"
      ]
    }
  ]
}