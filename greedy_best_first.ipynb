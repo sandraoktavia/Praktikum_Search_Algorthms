{
  "nbformat": 4,
  "nbformat_minor": 0,
  "metadata": {
    "colab": {
      "provenance": [],
      "authorship_tag": "ABX9TyPQYINdNBzWWLfeFggUmO7X",
      "include_colab_link": true
    },
    "kernelspec": {
      "name": "python3",
      "display_name": "Python 3"
    },
    "language_info": {
      "name": "python"
    }
  },
  "cells": [
    {
      "cell_type": "markdown",
      "metadata": {
        "id": "view-in-github",
        "colab_type": "text"
      },
      "source": [
        "<a href=\"https://colab.research.google.com/github/sandraoktavia/Praktikum_Search_Algorthms/blob/main/greedy_best_first.ipynb\" target=\"_parent\"><img src=\"https://colab.research.google.com/assets/colab-badge.svg\" alt=\"Open In Colab\"/></a>"
      ]
    },
    {
      "cell_type": "markdown",
      "source": [
        "## Code gready search dalam python"
      ],
      "metadata": {
        "id": "PlyGPZMlN-n0"
      }
    },
    {
      "cell_type": "code",
      "execution_count": null,
      "metadata": {
        "id": "JuTphCumN8ti"
      },
      "outputs": [],
      "source": [
        "from queue import PriorityQueue\n",
        "\n",
        "# Fungsi untuk algoritma Greedy Search\n",
        "def greedy_search(graph, start, goal):\n",
        "    frontier = PriorityQueue()  # Antrian prioritas untuk menyimpan simpul yang akan dieksplorasi\n",
        "    frontier.put((0, start))  # Menambahkan simpul awal ke dalam antrian dengan nilai prioritas 0\n",
        "    explored = set()  # Set untuk menyimpan simpul yang sudah dieksplorasi\n",
        "\n",
        "    while not frontier.empty():\n",
        "        _, current_node = frontier.get()  # Mengambil simpul dengan nilai prioritas terendah dari antrian\n",
        "\n",
        "        if current_node == goal:\n",
        "            print(\"Simpul tujuan sudah ditemukan!\")\n",
        "            return True  # Mengembalikan True jika simpul tujuan sudah ditemukan\n",
        "\n",
        "        explored.add(current_node)  # Menandai simpul saat ini sebagai sudah dieksplorasi\n",
        "\n",
        "        for neighbor in graph[current_node]:\n",
        "            if neighbor not in explored:\n",
        "                priority = heuristic[neighbor]  # Menggunakan nilai heuristik untuk menentukan prioritas\n",
        "                frontier.put((priority, neighbor))  # Menambahkan simpul tetangga ke dalam antrian\n",
        "\n",
        "    print(\"Simpul tujuan tidak ditemukan!\")\n",
        "    return False  # Mengembalikan False jika simpul tujuan tidak ditemukan\n",
        "\n",
        "# Daftar heuristik untuk setiap simpul\n",
        "heuristic = {\n",
        "    'A': 9,\n",
        "    'B': 4,\n",
        "    'C': 2,\n",
        "    'D': 5,\n",
        "    'E': 3,\n",
        "    'S': 7,\n",
        "    'G': 0\n",
        "}\n",
        "\n",
        "# Graf (dalam bentuk daftar kejadian)\n",
        "graph = {\n",
        "    'S': {'A', 'E'},\n",
        "    'A': {'B', 'C'},\n",
        "    'B': {'D'},\n",
        "    'C': {'G'},\n",
        "    'D': {'G'},\n",
        "    'E': {'D'}\n",
        "}\n",
        "\n",
        "# Titik awal dan tujuan\n",
        "start_node = 'S'\n",
        "goal_node = 'G'\n",
        "\n",
        "# Panggil fungsi greedy search\n",
        "greedy_search(graph, start_node, goal_node)\n"
      ]
    }
  ]
}