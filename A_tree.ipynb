{
  "nbformat": 4,
  "nbformat_minor": 0,
  "metadata": {
    "colab": {
      "provenance": [],
      "authorship_tag": "ABX9TyPerqeI8/avdrg+odn8w0q6",
      "include_colab_link": true
    },
    "kernelspec": {
      "name": "python3",
      "display_name": "Python 3"
    },
    "language_info": {
      "name": "python"
    }
  },
  "cells": [
    {
      "cell_type": "markdown",
      "metadata": {
        "id": "view-in-github",
        "colab_type": "text"
      },
      "source": [
        "<a href=\"https://colab.research.google.com/github/sandraoktavia/Praktikum_Search_Algorthms/blob/main/A_tree.ipynb\" target=\"_parent\"><img src=\"https://colab.research.google.com/assets/colab-badge.svg\" alt=\"Open In Colab\"/></a>"
      ]
    },
    {
      "cell_type": "code",
      "execution_count": null,
      "metadata": {
        "id": "yzCvjj2dOTEB"
      },
      "outputs": [],
      "source": []
    },
    {
      "cell_type": "markdown",
      "source": [
        "## Code A*Tree search dalam python"
      ],
      "metadata": {
        "id": "zIOt5egOOUkz"
      }
    },
    {
      "cell_type": "code",
      "source": [
        "from queue import PriorityQueue\n",
        "\n",
        "# Fungsi untuk algoritma A* Tree Search\n",
        "def a_star_search(graph, start, goal, heuristic):\n",
        "    frontier = PriorityQueue()  # Antrian prioritas untuk menyimpan simpul yang akan dieksplorasi\n",
        "    frontier.put((0, start))  # Menambahkan simpul awal ke dalam antrian dengan nilai prioritas 0\n",
        "    explored = set()  # Set untuk menyimpan simpul yang sudah dieksplorasi\n",
        "\n",
        "    while not frontier.empty():\n",
        "        _, current_node = frontier.get()  # Mengambil simpul dengan nilai prioritas terendah dari antrian\n",
        "\n",
        "        if current_node == goal:\n",
        "            print(\"Simpul tujuan sudah ditemukan!\")\n",
        "            return True  # Mengembalikan True jika simpul tujuan sudah ditemukan\n",
        "\n",
        "        explored.add(current_node)  # Menandai simpul saat ini sebagai sudah dieksplorasi\n",
        "\n",
        "        for neighbor in graph[current_node]:\n",
        "            if neighbor not in explored:\n",
        "                priority = heuristic[neighbor] + graph[current_node][neighbor]\n",
        "                # Menambahkan nilai heuristik dan biaya langkah\n",
        "                frontier.put((priority, neighbor))\n",
        "                # Menambahkan simpul tetangga ke dalam antrian dengan nilai prioritas A*\n",
        "\n",
        "    print(\"Simpul tujuan tidak ditemukan!\")\n",
        "    return False  # Mengembalikan False jika simpul tujuan tidak ditemukan\n",
        "\n",
        "# Daftar heuristik untuk setiap simpul\n",
        "heuristic = {\n",
        "    'A': 9,\n",
        "    'B': 4,\n",
        "    'C': 2,\n",
        "    'D': 5,\n",
        "    'E': 3,\n",
        "    'S': 7,\n",
        "    'G': 0\n",
        "}\n",
        "\n",
        "# Graf (dalam bentuk daftar kejadian dengan bobot)\n",
        "graph = {\n",
        "    'S': {'A': 3, 'E': 2},\n",
        "    'A': {'B': 3, 'C': 4},\n",
        "    'B': {'D': 5},\n",
        "    'C': {'G': 7},\n",
        "    'D': {'G': 3},\n",
        "    'E': {'D': 6}\n",
        "}\n",
        "\n",
        "# Titik awal dan tujuan\n",
        "start_node = 'S'\n",
        "goal_node = 'G'\n",
        "\n",
        "# Panggil fungsi A* search\n",
        "a_star_search(graph, start_node, goal_node, heuristic)\n"
      ],
      "metadata": {
        "colab": {
          "base_uri": "https://localhost:8080/"
        },
        "id": "ygqjIIarGaTj",
        "outputId": "178163eb-6347-4146-ab57-687a5ec92ad9"
      },
      "execution_count": null,
      "outputs": [
        {
          "output_type": "stream",
          "name": "stdout",
          "text": [
            "Simpul tujuan sudah ditemukan!\n"
          ]
        },
        {
          "output_type": "execute_result",
          "data": {
            "text/plain": [
              "True"
            ]
          },
          "metadata": {},
          "execution_count": 21
        }
      ]
    }
  ]
}